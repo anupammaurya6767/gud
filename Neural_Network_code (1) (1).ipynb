{
 "cells": [
  {
   "cell_type": "code",
   "execution_count": 1,
   "metadata": {
    "colab": {
     "base_uri": "https://localhost:8080/",
     "height": 224
    },
    "id": "vXnBhcSuXV0X",
    "outputId": "f20a16f4-bd1e-4e4a-db13-5b6dbb7a91e2"
   },
   "outputs": [
    {
     "data": {
      "text/html": [
       "<div>\n",
       "<style scoped>\n",
       "    .dataframe tbody tr th:only-of-type {\n",
       "        vertical-align: middle;\n",
       "    }\n",
       "\n",
       "    .dataframe tbody tr th {\n",
       "        vertical-align: top;\n",
       "    }\n",
       "\n",
       "    .dataframe thead th {\n",
       "        text-align: right;\n",
       "    }\n",
       "</style>\n",
       "<table border=\"1\" class=\"dataframe\">\n",
       "  <thead>\n",
       "    <tr style=\"text-align: right;\">\n",
       "      <th></th>\n",
       "      <th>Age</th>\n",
       "      <th>Gender</th>\n",
       "      <th>Experience</th>\n",
       "      <th>Tenure in Company</th>\n",
       "      <th>Performance Score</th>\n",
       "      <th>Customer Rating</th>\n",
       "      <th>Nature of Job</th>\n",
       "      <th>attrition</th>\n",
       "    </tr>\n",
       "  </thead>\n",
       "  <tbody>\n",
       "    <tr>\n",
       "      <th>0</th>\n",
       "      <td>45</td>\n",
       "      <td>2</td>\n",
       "      <td>21</td>\n",
       "      <td>17</td>\n",
       "      <td>2</td>\n",
       "      <td>2</td>\n",
       "      <td>1</td>\n",
       "      <td>1</td>\n",
       "    </tr>\n",
       "    <tr>\n",
       "      <th>1</th>\n",
       "      <td>49</td>\n",
       "      <td>2</td>\n",
       "      <td>26</td>\n",
       "      <td>18</td>\n",
       "      <td>2</td>\n",
       "      <td>5</td>\n",
       "      <td>2</td>\n",
       "      <td>1</td>\n",
       "    </tr>\n",
       "    <tr>\n",
       "      <th>2</th>\n",
       "      <td>52</td>\n",
       "      <td>2</td>\n",
       "      <td>29</td>\n",
       "      <td>28</td>\n",
       "      <td>3</td>\n",
       "      <td>4</td>\n",
       "      <td>2</td>\n",
       "      <td>1</td>\n",
       "    </tr>\n",
       "    <tr>\n",
       "      <th>3</th>\n",
       "      <td>49</td>\n",
       "      <td>2</td>\n",
       "      <td>26</td>\n",
       "      <td>22</td>\n",
       "      <td>1</td>\n",
       "      <td>4</td>\n",
       "      <td>1</td>\n",
       "      <td>1</td>\n",
       "    </tr>\n",
       "    <tr>\n",
       "      <th>4</th>\n",
       "      <td>45</td>\n",
       "      <td>2</td>\n",
       "      <td>21</td>\n",
       "      <td>17</td>\n",
       "      <td>5</td>\n",
       "      <td>5</td>\n",
       "      <td>1</td>\n",
       "      <td>1</td>\n",
       "    </tr>\n",
       "  </tbody>\n",
       "</table>\n",
       "</div>"
      ],
      "text/plain": [
       "   Age  Gender  Experience  Tenure in Company  Performance Score  \\\n",
       "0   45       2          21                 17                  2   \n",
       "1   49       2          26                 18                  2   \n",
       "2   52       2          29                 28                  3   \n",
       "3   49       2          26                 22                  1   \n",
       "4   45       2          21                 17                  5   \n",
       "\n",
       "   Customer Rating  Nature of Job  attrition  \n",
       "0                2              1          1  \n",
       "1                5              2          1  \n",
       "2                4              2          1  \n",
       "3                4              1          1  \n",
       "4                5              1          1  "
      ]
     },
     "execution_count": 1,
     "metadata": {},
     "output_type": "execute_result"
    }
   ],
   "source": [
    "# Import python libraries required in this example:\n",
    "from keras.models import Sequential\n",
    "from keras.layers import Dense, Activation\n",
    "from sklearn.model_selection import train_test_split\n",
    "import numpy as np\n",
    "import pandas as pd\n",
    "dataset = pd.read_excel(\"Dataset_NN_NB.xlsx\",header = 0)\n",
    "dataset.head()"
   ]
  },
  {
   "cell_type": "code",
   "execution_count": 63,
   "metadata": {
    "colab": {
     "base_uri": "https://localhost:8080/"
    },
    "id": "qSqhtFlUStoc",
    "outputId": "b12fe6e4-cd3b-476d-92a0-64dc95302b01"
   },
   "outputs": [
    {
     "name": "stdout",
     "output_type": "stream",
     "text": [
      "Model: \"sequential_5\"\n",
      "_________________________________________________________________\n",
      " Layer (type)                Output Shape              Param #   \n",
      "=================================================================\n",
      " dense_10 (Dense)            (None, 50)                400       \n",
      "                                                                 \n",
      " activation_10 (Activation)  (None, 50)                0         \n",
      "                                                                 \n",
      " dense_11 (Dense)            (None, 1)                 51        \n",
      "                                                                 \n",
      " activation_11 (Activation)  (None, 1)                 0         \n",
      "                                                                 \n",
      "=================================================================\n",
      "Total params: 451\n",
      "Trainable params: 451\n",
      "Non-trainable params: 0\n",
      "_________________________________________________________________\n"
     ]
    }
   ],
   "source": [
    "# creation of Skeleton model\n",
    "model = Sequential()\n",
    "model.add(Dense(50, input_shape=(7,))) # Defining the Hidden layers and neurons\n",
    "model.add(Activation('sigmoid'))      # Activation function in the Hidden Layer\n",
    "model.add(Dense(1))                   # Output Layer definition\n",
    "model.add(Activation('sigmoid'))      # Activation function in Output Layer\n",
    "# Compile the model and calculate its accuracy:\n",
    "model.compile(loss='mse', optimizer='sgd', metrics=['accuracy']) # sgd - stochastic gradient Descent\n",
    "# Print a summary of the Keras model:\n",
    "model.summary()"
   ]
  },
  {
   "cell_type": "code",
   "execution_count": 64,
   "metadata": {
    "id": "gzyr-Q6qS17L"
   },
   "outputs": [],
   "source": [
    "x = np.array(dataset[['Age','Gender','Experience', 'Tenure in Company','Performance Score','Customer Rating','Nature of Job']])\n",
    "y = np.array(dataset.attrition);\n"
   ]
  },
  {
   "cell_type": "code",
   "execution_count": 65,
   "metadata": {
    "id": "7aZc8CiEUyaS"
   },
   "outputs": [],
   "source": [
    "x_train, x_test, y_train, y_test= train_test_split(x, y, train_size=0.8)"
   ]
  },
  {
   "cell_type": "code",
   "execution_count": 66,
   "metadata": {
    "colab": {
     "base_uri": "https://localhost:8080/"
    },
    "id": "veL6z_13VIMT",
    "outputId": "cd7459b7-0cd0-4088-8547-d29a84bfd2ba"
   },
   "outputs": [
    {
     "name": "stdout",
     "output_type": "stream",
     "text": [
      "240\n",
      "240\n",
      "60\n",
      "60\n"
     ]
    },
    {
     "data": {
      "text/plain": [
       "array([0, 1, 0, 1, 1, 0, 0, 1, 0, 0, 1, 0, 1, 0, 1, 0, 0, 1, 1, 0, 1, 0,\n",
       "       0, 0, 1, 1, 1, 0, 0, 1, 0, 0, 1, 1, 1, 0, 1, 1, 1, 1, 1, 1, 1, 0,\n",
       "       1, 1, 1, 0, 0, 1, 1, 0, 1, 0, 1, 1, 0, 1, 1, 0], dtype=int64)"
      ]
     },
     "execution_count": 66,
     "metadata": {},
     "output_type": "execute_result"
    }
   ],
   "source": [
    "print(len(x_train))\n",
    "print(len(y_train))\n",
    "print(len(x_test))\n",
    "print(len(y_test))\n",
    "y_test"
   ]
  },
  {
   "cell_type": "code",
   "execution_count": 67,
   "metadata": {
    "colab": {
     "base_uri": "https://localhost:8080/"
    },
    "id": "D2ywnHTXS5ti",
    "outputId": "f345a00c-3bd0-4459-e3f2-8cb9f1ff4f94"
   },
   "outputs": [
    {
     "name": "stdout",
     "output_type": "stream",
     "text": [
      "Epoch 1/20\n",
      "3/3 [==============================] - 1s 9ms/step - loss: 0.3398 - accuracy: 0.5042\n",
      "Epoch 2/20\n",
      "3/3 [==============================] - 0s 8ms/step - loss: 0.3264 - accuracy: 0.5042\n",
      "Epoch 3/20\n",
      "3/3 [==============================] - 0s 7ms/step - loss: 0.3108 - accuracy: 0.5042\n",
      "Epoch 4/20\n",
      "3/3 [==============================] - 0s 4ms/step - loss: 0.2921 - accuracy: 0.5042\n",
      "Epoch 5/20\n",
      "3/3 [==============================] - 0s 8ms/step - loss: 0.2721 - accuracy: 0.5042\n",
      "Epoch 6/20\n",
      "3/3 [==============================] - 0s 9ms/step - loss: 0.2548 - accuracy: 0.5042\n",
      "Epoch 7/20\n",
      "3/3 [==============================] - 0s 3ms/step - loss: 0.2409 - accuracy: 0.5042\n",
      "Epoch 8/20\n",
      "3/3 [==============================] - 0s 4ms/step - loss: 0.2315 - accuracy: 0.5208\n",
      "Epoch 9/20\n",
      "3/3 [==============================] - 0s 4ms/step - loss: 0.2253 - accuracy: 0.6333\n",
      "Epoch 10/20\n",
      "3/3 [==============================] - 0s 2ms/step - loss: 0.2207 - accuracy: 0.7375\n",
      "Epoch 11/20\n",
      "3/3 [==============================] - 0s 5ms/step - loss: 0.2173 - accuracy: 0.7833\n",
      "Epoch 12/20\n",
      "3/3 [==============================] - 0s 9ms/step - loss: 0.2153 - accuracy: 0.8000\n",
      "Epoch 13/20\n",
      "3/3 [==============================] - 0s 3ms/step - loss: 0.2136 - accuracy: 0.8083\n",
      "Epoch 14/20\n",
      "3/3 [==============================] - 0s 6ms/step - loss: 0.2123 - accuracy: 0.8083\n",
      "Epoch 15/20\n",
      "3/3 [==============================] - 0s 8ms/step - loss: 0.2112 - accuracy: 0.8208\n",
      "Epoch 16/20\n",
      "3/3 [==============================] - 0s 7ms/step - loss: 0.2108 - accuracy: 0.8208\n",
      "Epoch 17/20\n",
      "3/3 [==============================] - 0s 9ms/step - loss: 0.2096 - accuracy: 0.8250\n",
      "Epoch 18/20\n",
      "3/3 [==============================] - 0s 9ms/step - loss: 0.2089 - accuracy: 0.8292\n",
      "Epoch 19/20\n",
      "3/3 [==============================] - 0s 4ms/step - loss: 0.2083 - accuracy: 0.8125\n",
      "Epoch 20/20\n",
      "3/3 [==============================] - 0s 1ms/step - loss: 0.2075 - accuracy: 0.8208\n"
     ]
    }
   ],
   "source": [
    "mdl = model.fit(x_train,y_train, epochs=20, batch_size = 80)"
   ]
  },
  {
   "cell_type": "code",
   "execution_count": 68,
   "metadata": {
    "colab": {
     "base_uri": "https://localhost:8080/"
    },
    "id": "ZtQYxobiVyvS",
    "outputId": "c5d8f13a-da0d-4ec4-f7a4-f9ea6cb0c552"
   },
   "outputs": [
    {
     "name": "stdout",
     "output_type": "stream",
     "text": [
      "WARNING:tensorflow:6 out of the last 11 calls to <function Model.make_predict_function.<locals>.predict_function at 0x000001D3F1559820> triggered tf.function retracing. Tracing is expensive and the excessive number of tracings could be due to (1) creating @tf.function repeatedly in a loop, (2) passing tensors with different shapes, (3) passing Python objects instead of tensors. For (1), please define your @tf.function outside of the loop. For (2), @tf.function has reduce_retracing=True option that can avoid unnecessary retracing. For (3), please refer to https://www.tensorflow.org/guide/function#controlling_retracing and https://www.tensorflow.org/api_docs/python/tf/function for  more details.\n",
      "2/2 [==============================] - 0s 0s/step\n"
     ]
    }
   ],
   "source": [
    "y_pred = model.predict(x_test)"
   ]
  },
  {
   "cell_type": "code",
   "execution_count": 69,
   "metadata": {
    "colab": {
     "base_uri": "https://localhost:8080/"
    },
    "id": "JzHGWXXiV6GQ",
    "outputId": "6fa6737a-0c50-4e32-d2ee-3267ee855cb7"
   },
   "outputs": [
    {
     "data": {
      "text/plain": [
       "array([[0.43797272],\n",
       "       [0.49242046],\n",
       "       [0.4191553 ],\n",
       "       [0.5133179 ],\n",
       "       [0.5898435 ],\n",
       "       [0.4361959 ],\n",
       "       [0.4057673 ],\n",
       "       [0.5124915 ],\n",
       "       [0.49180594],\n",
       "       [0.41277438],\n",
       "       [0.5322298 ],\n",
       "       [0.36884356],\n",
       "       [0.5965875 ],\n",
       "       [0.43884683],\n",
       "       [0.5608709 ],\n",
       "       [0.43421715],\n",
       "       [0.41441342],\n",
       "       [0.59050506],\n",
       "       [0.5860818 ],\n",
       "       [0.49988464],\n",
       "       [0.5875649 ],\n",
       "       [0.41843542],\n",
       "       [0.39012995],\n",
       "       [0.47630328],\n",
       "       [0.58814037],\n",
       "       [0.5191566 ],\n",
       "       [0.5954127 ],\n",
       "       [0.42074782],\n",
       "       [0.4129291 ],\n",
       "       [0.5750197 ],\n",
       "       [0.44148156],\n",
       "       [0.43030116],\n",
       "       [0.5791642 ],\n",
       "       [0.5497621 ],\n",
       "       [0.537094  ],\n",
       "       [0.50492436],\n",
       "       [0.51385456],\n",
       "       [0.4808567 ],\n",
       "       [0.5996456 ],\n",
       "       [0.50971526],\n",
       "       [0.59959805],\n",
       "       [0.5213246 ],\n",
       "       [0.4829702 ],\n",
       "       [0.41929075],\n",
       "       [0.46518663],\n",
       "       [0.5146186 ],\n",
       "       [0.56445634],\n",
       "       [0.4823211 ],\n",
       "       [0.43902218],\n",
       "       [0.51101166],\n",
       "       [0.5208782 ],\n",
       "       [0.47706354],\n",
       "       [0.59752965],\n",
       "       [0.52808774],\n",
       "       [0.54904974],\n",
       "       [0.56801534],\n",
       "       [0.4687728 ],\n",
       "       [0.6003924 ],\n",
       "       [0.55837333],\n",
       "       [0.41245693]], dtype=float32)"
      ]
     },
     "execution_count": 69,
     "metadata": {},
     "output_type": "execute_result"
    }
   ],
   "source": [
    "y_pred"
   ]
  },
  {
   "cell_type": "code",
   "execution_count": 70,
   "metadata": {
    "id": "lIrwTv-7wy-i"
   },
   "outputs": [],
   "source": [
    "y_pclass = np.where(y_pred>=0.5,1,0)"
   ]
  },
  {
   "cell_type": "code",
   "execution_count": 71,
   "metadata": {
    "colab": {
     "base_uri": "https://localhost:8080/"
    },
    "id": "KZrD7Qm-ZnBs",
    "outputId": "e3aeb1df-ea3b-4984-ac6a-2a715f5bbf07"
   },
   "outputs": [
    {
     "name": "stdout",
     "output_type": "stream",
     "text": [
      "[[24  2]\n",
      " [ 4 30]]\n",
      "0.9090909090909091\n"
     ]
    }
   ],
   "source": [
    "from sklearn.metrics import confusion_matrix\n",
    "from sklearn.metrics import f1_score\n",
    "from sklearn.metrics import accuracy_score\n",
    "cm = confusion_matrix(y_test, y_pclass)\n",
    "print (cm)\n",
    "print(f1_score(y_test, y_pclass))"
   ]
  },
  {
   "cell_type": "code",
   "execution_count": 72,
   "metadata": {
    "colab": {
     "base_uri": "https://localhost:8080/"
    },
    "id": "OyH8_ddyc1hv",
    "outputId": "2ebc0612-38b3-4b03-dba4-0163222a3443"
   },
   "outputs": [
    {
     "name": "stdout",
     "output_type": "stream",
     "text": [
      "0.9\n"
     ]
    }
   ],
   "source": [
    "print(accuracy_score(y_test, y_pclass))"
   ]
  },
  {
   "cell_type": "code",
   "execution_count": null,
   "metadata": {
    "id": "1jeBM2C1CaQH"
   },
   "outputs": [],
   "source": []
  },
  {
   "cell_type": "code",
   "execution_count": null,
   "metadata": {},
   "outputs": [],
   "source": []
  }
 ],
 "metadata": {
  "colab": {
   "provenance": []
  },
  "kernelspec": {
   "display_name": "Python 3 (ipykernel)",
   "language": "python",
   "name": "python3"
  },
  "language_info": {
   "codemirror_mode": {
    "name": "ipython",
    "version": 3
   },
   "file_extension": ".py",
   "mimetype": "text/x-python",
   "name": "python",
   "nbconvert_exporter": "python",
   "pygments_lexer": "ipython3",
   "version": "3.9.13"
  }
 },
 "nbformat": 4,
 "nbformat_minor": 1
}
